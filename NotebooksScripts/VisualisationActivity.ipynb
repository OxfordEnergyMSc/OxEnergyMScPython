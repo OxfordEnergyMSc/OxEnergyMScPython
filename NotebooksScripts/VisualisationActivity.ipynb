{
 "cells": [
  {
   "cell_type": "markdown",
   "metadata": {},
   "source": [
    "# Data Visualisation\n",
    "\n",
    "Data visualisation is one of the most powerful tools for a data scientist (or more generally anyone analysing data). Not only does it allow us to quickly understand our data through identifying patterns, trends, outliers etc, it allows us to transform that data into a narrative to communicate our (sometimes complex) narrative to both technical and non-technical audiences.\n",
    "\n",
    "<iframe src=\"https://ourworldindata.org/grapher/per-capita-energy-use?tab=map\" loading=\"lazy\" style=\"width: 100%; height: 600px; border: 0px none;\" allow=\"web-share; clipboard-write\"></iframe>"
   ]
  },
  {
   "cell_type": "markdown",
   "metadata": {},
   "source": [
    "## Matplotlib.pyplot\n",
    "Matplotlib is one of the most widely used Python libraries for data visualization. It offers a comprehensive and flexible system for creating static, animated, and interactive plots.\n",
    "\n",
    "Lets go ahead and import matplotlib, specifically the pyplot submodule.\n"
   ]
  },
  {
   "cell_type": "code",
   "execution_count": null,
   "metadata": {},
   "outputs": [],
   "source": [
    "import matplotlib.pyplot as plt    \n",
    "import numpy as np\n",
    "\n",
    "%matplotlib inline\n",
    "# Any guesses as to what the line above does?   \n"
   ]
  },
  {
   "cell_type": "markdown",
   "metadata": {},
   "source": [
    "Matplotlib is object-orientated. Some of the basic components (or objects) of Matplotlib are:\n",
    "- **Figure**: The entire window or page where the plot appears. It can contain one or more subplots\n",
    "- **Axes** (subplot): The area where the data is plotted, which includes labels, ticks, lines and grids.\n",
    "- **Plotting functions**: A wide range of functions to plot different kinds of data e.g. plot(), bar(), scatter()."
   ]
  },
  {
   "cell_type": "markdown",
   "metadata": {},
   "source": [
    "### Now, let's create a very simple plot to get the point across  \n",
    "You can access the plotting functions directly from the pyplot module itself, this is often the quickest way to plot and explore data."
   ]
  },
  {
   "cell_type": "code",
   "execution_count": null,
   "metadata": {},
   "outputs": [],
   "source": [
    "# Create your x and y data using the Numpy library\n",
    "\n",
    "x1 = np.linspace(0, 10, 30)\n",
    "y1 = np.sin(x1)                         \n",
    "\n",
    "plt.plot(x1, y1, 'o', color='black');         # There are many ways of coding in black as a colour"
   ]
  },
  {
   "cell_type": "markdown",
   "metadata": {},
   "source": [
    "There are many ways to customise plots (and many to achieve the same outcome, e.g. the shortcut string used below)"
   ]
  },
  {
   "cell_type": "code",
   "execution_count": null,
   "metadata": {},
   "outputs": [],
   "source": [
    "# For instance:\n",
    "plt.plot(x1, y1, '--xk');\n"
   ]
  },
  {
   "cell_type": "markdown",
   "metadata": {},
   "source": [
    "You can also change the entire style of plotting at a module level"
   ]
  },
  {
   "cell_type": "code",
   "execution_count": null,
   "metadata": {},
   "outputs": [],
   "source": [
    "# get a list of available styles, pick one and try out in the next cell\n",
    "print(plt.style.available)"
   ]
  },
  {
   "cell_type": "code",
   "execution_count": null,
   "metadata": {},
   "outputs": [],
   "source": [
    "plt.style.use('ggplot') \n",
    "\n",
    "plt.plot(x1, y1, '--xk');"
   ]
  },
  {
   "cell_type": "markdown",
   "metadata": {},
   "source": [
    "### Let's now create some random data for plotting in the following examples. Your plots should all look different from those of your peers. Your job is to comment on the code below\n",
    "\n",
    "&nbsp;"
   ]
  },
  {
   "cell_type": "code",
   "execution_count": null,
   "metadata": {},
   "outputs": [],
   "source": [
    "rng = np.random.RandomState(0)                  \n",
    "x2 = rng.randn(100)\n",
    "y2 = rng.randn(100)\n",
    "colors = rng.rand(100)\n",
    "sizes = 1000 * rng.rand(100)\n",
    "\n",
    "plt.scatter(x2, y2, c=colors, s=sizes, alpha=0.3,\n",
    "            cmap='viridis')\n",
    "cbar = plt.colorbar()\n",
    "\n",
    "plt.show()"
   ]
  },
  {
   "cell_type": "markdown",
   "metadata": {},
   "source": [
    "### Now go ahead and make the following additions to the plot above:\n",
    "&nbsp;\n",
    "\n",
    "1. Add axis labels. Try to choose appropriate ones assuming that the plot represents energy data\n",
    "2. Choose a different colour scheme\n",
    "3. Try changing the x and y axis ranges\n",
    "4. Increase the size of your plot to take up roughly the width of the screen\n",
    "5. Add an appropriate label to your colourbar (`colorbar`) and rotate 270 degrees"
   ]
  },
  {
   "cell_type": "code",
   "execution_count": null,
   "metadata": {},
   "outputs": [],
   "source": []
  },
  {
   "cell_type": "code",
   "execution_count": null,
   "metadata": {},
   "outputs": [],
   "source": []
  },
  {
   "cell_type": "markdown",
   "metadata": {},
   "source": [
    "\n",
    "<details><summary>Click here when instructed</summary>\n",
    "<p>\n",
    "\n",
    "#### Here are some sample lines of code that will work. \n",
    "\n",
    "```python\n",
    "\n",
    "#1\n",
    "plt.xlabel('GDP Growth Index')\n",
    "plt.ylabel('Energy Acceleration Index')\n",
    "\n",
    "#2\n",
    "# You can use many of the schemes such as 'plasma'. Consult the Matplotlib.org website for more options \n",
    "\n",
    "#3\n",
    "plt.xlim(-6,6)                    # Notice how important scaling is in representing your data?\n",
    "plt.ylim(-6,6)\n",
    "\n",
    "#4\n",
    "plt.figure(figsize=(20,10))       # However, this needs to come before you plot the data. Canvas before paint!\n",
    "\n",
    "#5\n",
    "cbar = plt.colorbar(); \n",
    "cbar.set_label('Normalized population', rotation=270)\n",
    "```\n",
    "\n",
    "</p>\n",
    "</details>\n",
    "\n"
   ]
  },
  {
   "cell_type": "markdown",
   "metadata": {},
   "source": [
    "### Using Figures\n",
    "Using the plt. shortcut is fine for basic data exploration, but how do you refer back to the sin plot you created first. Your latest plots have overridden it. \n",
    "\n",
    "As you generate more plots, plots get more complex, or you want to use subplots, it is good practise to use a more formal structure where you assign plots and their axes to variables.\n",
    "\n",
    "7. Finish of the code below to create a subplot containing the two previous plots."
   ]
  },
  {
   "cell_type": "code",
   "execution_count": null,
   "metadata": {},
   "outputs": [],
   "source": [
    "fig, (ax1, ax2) = plt.subplots(nrows=1, ncols=2)  # create a figure containing multiple axes\n",
    "sn = ax1.  # plot sin data as solid blue line \n",
    "ax1.set_ylabel()  # define a y label\n",
    "ax1.  # define an x label\n",
    "dot =  # scatter plot on second axes\n",
    "cbar = fig.colorbar(dot, ax=ax2)\n",
    "cbar.set_label('Normalized population')\n",
    "fig.tight_layout()\n",
    "plt.show()  # plot the figure"
   ]
  },
  {
   "cell_type": "markdown",
   "metadata": {},
   "source": [
    "\n",
    "<details><summary>Click here when instructed</summary>\n",
    "<p>\n",
    "\n",
    "#### Here are some sample lines of code that will work. \n",
    "\n",
    "```python\n",
    "\n",
    "fig, (ax1, ax2) = plt.subplots(nrows=1, ncols=2)\n",
    "sn = ax1.plot(x1, y1, '-', color='blue'); \n",
    "ax1.set_ylabel('a')\n",
    "ax1.set_xlabel('b')\n",
    "dot = ax2.scatter(x2, y2, c=colors, s=sizes, alpha=0.3,\n",
    "            cmap='viridis')\n",
    "cbar=fig.colorbar(dot, ax=ax2)\n",
    "cbar.set_label('Normalized population', rotation=270)\n",
    "fig.tight_layout()\n",
    "plt.show(fig)\n",
    "```\n",
    "\n",
    "</p>\n",
    "</details>\n",
    "\n"
   ]
  },
  {
   "cell_type": "markdown",
   "metadata": {},
   "source": [
    "## Seaborn Activity"
   ]
  },
  {
   "cell_type": "markdown",
   "metadata": {},
   "source": [
    "Seaborn is a statistical visualisation library built on matplotlib. In many cases, it makes plotting of statistical analysis easier and more attactive without the need for additional lines of code as would be the case if only using matplotlib.\n",
    "\n",
    "In the code block below, using hourly energy and indoor environmental quality (IEQ) data from Holywell House, use pandas and seaborn to \n",
    "1) import separate electricity, gas, IEQ and outdoor temperature data using pandas and concatonate into a single dataframe.\n",
    "2) Start exploring the data. What is there? Are there any gaps in the data?\n",
    "3) Resampling the data to daily, think about what aggregation function(s) are appropraite for the different variables. You can apply particular aggregation functions to variables by providing a dictionary {col:func} to the ```resample().agg()``` method.\n",
    "4) explore relationships between a subset of features of your choosing using [pairplot](https://seaborn.pydata.org/generated/seaborn.pairplot.html).\n",
    "5) Looking at electricity and gas, which features show the strongest, if any, correlation? Plot the linear regression for this pair of features with [jointplot](https://seaborn.pydata.org/generated/seaborn.jointplot.html#seaborn.jointplot)\n",
    "6) Derive a new feature, day of the week using your datetime index - in machine learning, this is called Feature Engineering. Explore if there are any correlations between day of the week and energy use. You may wish to use the 'hue' parameter of jointplot to condition on this new categorical data or try using the [catplot](https://seaborn.pydata.org/tutorial/categorical.html) function.\n"
   ]
  },
  {
   "cell_type": "code",
   "execution_count": null,
   "metadata": {},
   "outputs": [],
   "source": [
    "# 1) import separate electricity, gas, IEQ and outdoor temperature data using pandas.\n",
    "import seaborn as sns\n",
    "import pandas as pd\n",
    "ieq = pd.read_csv('../Data/HH_level1_IEQ.csv', index_col=0, parse_dates=True) # file: HH_level1_IEQ.csv\n",
    "outdoor =   # file: HH_outside_TH.csv\n",
    "elec =  # file: HH_elec.csv\n",
    "gas =  # file: HH_gas.csv\n",
    "\n",
    "# concatonate into a single dataframe\n",
    "combined = "
   ]
  },
  {
   "cell_type": "code",
   "execution_count": null,
   "metadata": {},
   "outputs": [],
   "source": [
    "# explore the data\n"
   ]
  },
  {
   "cell_type": "code",
   "execution_count": null,
   "metadata": {},
   "outputs": [],
   "source": [
    "# 3) Resampling the data to daily\n",
    "combined_resampled = combined."
   ]
  },
  {
   "cell_type": "code",
   "execution_count": null,
   "metadata": {},
   "outputs": [],
   "source": [
    "# check the data was resampled correctly\n",
    "combined_resampled.head()"
   ]
  },
  {
   "cell_type": "code",
   "execution_count": null,
   "metadata": {},
   "outputs": [],
   "source": [
    "# 4) Using seaborn, create a pairplot of the resampled data to explore relationships between variables.\n"
   ]
  },
  {
   "cell_type": "code",
   "execution_count": null,
   "metadata": {},
   "outputs": [],
   "source": [
    "# 5) Using seaborn, create a jointplot of two variables that show a correlation.\n",
    "sns.jointplot(combined_resampled, x='out_T', y='Gas (kWh)', kind='reg')"
   ]
  },
  {
   "cell_type": "code",
   "execution_count": null,
   "metadata": {},
   "outputs": [],
   "source": [
    "# 6) Add a day of week column to the resampled dataframe and use seaborn to explore any correlations between day of week and energy use.\n"
   ]
  },
  {
   "cell_type": "markdown",
   "metadata": {},
   "source": [
    "## Plotly\n",
    "While matplotlib is the python standard for creating static plots for analysis and publication, Plotly offers a powerful alternative when you need interactive, web-ready visualizations - an increasingly used tool for communicating your work ([OurWorldInData](https://ourworldindata.org/) is a fantastic example of this). \n",
    "\n",
    "Plotly automatically generates interactive plots that allow users to zoom, pan, hover for details, and toggle data series on/off - features that can transform a static chart into an engaging, exploratory tool.\n",
    "\n",
    "Plotly figures are often rendered in a browser window or in jupyter notebooks. Working with plotly has a similar architecture to matplotlib, however, there are many powerful features that make creating attractive plots very easy. \n",
    "\n",
    "Below is an example of plotly using the Holywell House data you imported above. Use the interactive tools to explore the data."
   ]
  },
  {
   "cell_type": "code",
   "execution_count": null,
   "metadata": {},
   "outputs": [],
   "source": [
    "# Create an interactive bar chart with Plotly - bars side by side\n",
    "import plotly.graph_objects as go\n",
    "\n",
    "# Create a single subplot (no secondary y-axis for true side-by-side bars)\n",
    "fig = go.Figure()\n",
    "\n",
    "# Add electricity consumption as bars\n",
    "fig.add_trace(\n",
    "    go.Bar(\n",
    "        x=combined_resampled.index,\n",
    "        y=combined_resampled['Electricity (kWh)'],\n",
    "        name='Electricity (kWh)',\n",
    "        marker_color='blue',\n",
    "        opacity=0.7\n",
    "    )\n",
    ")\n",
    "\n",
    "# Add gas consumption as bars\n",
    "fig.add_trace(\n",
    "    go.Bar(\n",
    "        x=combined_resampled.index,\n",
    "        y=combined_resampled['Gas (kWh)'],\n",
    "        name='Gas (kWh)',\n",
    "        marker_color='red',\n",
    "        opacity=0.7\n",
    "    )\n",
    ")\n",
    "\n",
    "# Update layout\n",
    "fig.update_layout(\n",
    "    title=\"Daily Energy Consumption at Holywell House - Side by Side Bars\",\n",
    "    xaxis_title=\"Date\",\n",
    "    yaxis_title=\"Energy Consumption (kWh)\",\n",
    "    hovermode='x unified',\n",
    "    width=900,\n",
    "    height=500,\n",
    "    barmode='group'  # This ensures bars are side by side\n",
    ")\n",
    "\n",
    "# Show the interactive plot\n",
    "fig.show()"
   ]
  },
  {
   "cell_type": "code",
   "execution_count": null,
   "metadata": {},
   "outputs": [],
   "source": []
  }
 ],
 "metadata": {
  "anaconda-cloud": {},
  "kernelspec": {
   "display_name": "GeoPower",
   "language": "python",
   "name": "python3"
  },
  "language_info": {
   "codemirror_mode": {
    "name": "ipython",
    "version": 3
   },
   "file_extension": ".py",
   "mimetype": "text/x-python",
   "name": "python",
   "nbconvert_exporter": "python",
   "pygments_lexer": "ipython3",
   "version": "3.12.11"
  }
 },
 "nbformat": 4,
 "nbformat_minor": 4
}
