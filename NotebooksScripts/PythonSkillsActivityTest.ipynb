{
 "cells": [
  {
   "cell_type": "markdown",
   "id": "aac0b439-05ce-4ca8-8fb2-8654fc2eb953",
   "metadata": {},
   "source": [
    "# Energy Systems Python Skills Activity Notebook\n",
    "Use this notebook to test the output of your code written as part of the class activities."
   ]
  },
  {
   "cell_type": "markdown",
   "id": "b8899a1f-5224-4ef2-9f35-6a1cd8afc759",
   "metadata": {},
   "source": [
    "## Import your module\n",
    "Import your activity script as a module. Edit as appropriate with the name of your script."
   ]
  },
  {
   "cell_type": "code",
   "execution_count": 1,
   "id": "fed6a346-6081-4b6b-a16b-9e506dcf171f",
   "metadata": {},
   "outputs": [],
   "source": [
    "import PythonSkillsActivityStarter as es"
   ]
  },
  {
   "cell_type": "markdown",
   "id": "ba31926b-c62b-4ab9-a5ae-348e0405b209",
   "metadata": {},
   "source": [
    "## Test your PV array size calculation function"
   ]
  },
  {
   "cell_type": "code",
   "execution_count": null,
   "id": "06a92261-f6de-45bf-be28-fbee0bf915a9",
   "metadata": {},
   "outputs": [],
   "source": [
    "# input parameters\n",
    "building_width = 15.0  # building width (m)\n",
    "building_length = 28.0  # building length (m)\n",
    "roof_angle = 22.0  # angle of roof incline deg\n",
    "pv_width = 1690  # width of PV panel in mm\n",
    "pv_height = 1046  # height of PV panel in mm\n",
    "pv_power = 400.0  # power of PV panel in Wp\n",
    "\n",
    "# call function\n",
    "total_panels, capacity = es.calc_pv_array_size()\n",
    "\n",
    "# print output\n",
    "print(\"PV array consists of {} with total capacity {} kW\".format(total_panels, capacity) "
   ]
  },
  {
   "cell_type": "markdown",
   "id": "1d035a93-0be9-430b-8c1c-5c06848bef27",
   "metadata": {},
   "source": [
    "## Test you battery function"
   ]
  },
  {
   "cell_type": "code",
   "execution_count": 15,
   "id": "f34d3ee5-b475-4e17-8f19-0f58b4e7472b",
   "metadata": {},
   "outputs": [
    {
     "name": "stdout",
     "output_type": "stream",
     "text": [
      "State of charge: 3.5 kWh, net_power: 1.5 kW\n"
     ]
    }
   ],
   "source": [
    "soc = 12  # state of charge (kWh)\n",
    "E_tot = 13.5  # total energy capacity (kWh)\n",
    "P_max = 8.5  # total power capacity (kW)\n",
    "T = 1  # length of period (hours)\n",
    "\n",
    "power = 10  # power demand (kW)\n",
    "\n",
    "soc, net_power = es.battery_charge_action(soc, power, E_tot, P_max, T)\n",
    "\n",
    "print(\"State of charge: {} kWh, net_power: {} kW\".format(soc, net_power))"
   ]
  },
  {
   "cell_type": "markdown",
   "id": "f925ee80-ccb6-43f7-9ddb-bc0780912e62",
   "metadata": {},
   "source": [
    "## Test your battery object"
   ]
  },
  {
   "cell_type": "code",
   "execution_count": 16,
   "id": "84955189-8205-48b1-a46e-642adc2bc7b4",
   "metadata": {},
   "outputs": [
    {
     "name": "stdout",
     "output_type": "stream",
     "text": [
      "Final battery state of charge 51.9 %\n"
     ]
    }
   ],
   "source": [
    "demand = [3, 5, -1, -4, -3, 0, 5, 8, -3, 8, -5, 1, 4, 7, 5, 2, 2, -5, -2, -5, -0, 7, 3, -5]\n",
    "net_demand = [0] * len(demand)\n",
    "b1 = es.Battery(1)\n",
    "for t, d in enumerate(demand):  # t is the index, d is the corresponding demand index\n",
    "    net_demand[t] += b1.battery_charge_action(d, 1)\n",
    "\n",
    "print(\"Final battery state of charge {:.1f} %\".format((b1.soc/b1.E_tot)*100))"
   ]
  },
  {
   "cell_type": "code",
   "execution_count": null,
   "id": "54a6e765-e808-42ab-86c2-aebc02f09efe",
   "metadata": {},
   "outputs": [],
   "source": []
  }
 ],
 "metadata": {
  "kernelspec": {
   "display_name": "Python 3 (ipykernel)",
   "language": "python",
   "name": "python3"
  },
  "language_info": {
   "codemirror_mode": {
    "name": "ipython",
    "version": 3
   },
   "file_extension": ".py",
   "mimetype": "text/x-python",
   "name": "python",
   "nbconvert_exporter": "python",
   "pygments_lexer": "ipython3",
   "version": "3.12.6"
  }
 },
 "nbformat": 4,
 "nbformat_minor": 5
}
