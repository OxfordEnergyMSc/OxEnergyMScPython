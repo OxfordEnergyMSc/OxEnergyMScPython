{
 "cells": [
  {
   "cell_type": "markdown",
   "metadata": {},
   "source": [
    "# Geopandas tutorial"
   ]
  },
  {
   "attachments": {},
   "cell_type": "markdown",
   "metadata": {},
   "source": [
    "Installing geopandas may lead to dependency conflicts. We have prepared an ```environment.yml``` file (a set of instructions for conda to create an environment with specific library versions).\n",
    "\n",
    "Open a new terminal (MacOS), the Miniforge Prompt (windows), or the terminal at the bottom of your VS Code window. You should start in the base environment.\n",
    "\n",
    "Navigate to this OxEnergyMScPython local repository folder on your computer using a command along the lines of:\n",
    "```\n",
    "cd ~/Documents/GitHub/OxEnergyMScPython\n",
    "```\n",
    "\n",
    "Check you are in the correct place with the ```ls``` command. This should list all files and folders within your current working directory. You should see an environment.yml file. \n",
    "\n",
    "Create a new environment using this yml file:\n",
    "```\n",
    "mamba env create -f environment.yml -n GeoPower\n",
    "```\n",
    "\n",
    "Finally, activate your new environment:\n",
    "```\n",
    "mamba activate GeoPower\n",
    "```"
   ]
  },
  {
   "cell_type": "code",
   "execution_count": 1,
   "metadata": {},
   "outputs": [],
   "source": [
    "# Import geopandas and matplotlib\n",
    "\n",
    "import pandas as pd\n",
    "import geopandas as gpd\n",
    "import matplotlib.pyplot as plt\n"
   ]
  },
  {
   "cell_type": "markdown",
   "metadata": {},
   "source": [
    "## Importing data"
   ]
  },
  {
   "cell_type": "markdown",
   "metadata": {},
   "source": [
    "We are now going to display a map of the world. See this [link](https://geopandas.org/mapping.html) to learn more about this process\n",
    "\n",
    "There are some built in layers and within geopandas that you might find useful. However, for this exercise, **download the natural earth [low res countries dataset](https://www.naturalearthdata.com/downloads/110m-cultural-vectors/110m-admin-0-countries/) and import it using the code below.**\n",
    "\n",
    "You will download the file as a zip. Unzip the file and copy the whole directory to your working directory (or data folder). Remember that shapefiles are a collection of files with a common filename prefix, stored in the same directory. The three mandatory files have filename extensions .shp, .shx, and .dbf. While you should use the filepath of the actual shapefile, specifically to the .shp file, it alone is incomplete for distribution as the other supporting files are required to be present.\n",
    "\n",
    "For the purposes of this exercise, lets only work with a sub-selection of columns. In the example below, this filtering is done on import using the columns keyword parameter. You may wish to import all columns by removing this, then looking at what columns are included using the ```world.columns``` attribute, and finally indexing on a selction of your choice with ```world = world[[\"Col A\", \"Col B\", \"Col C\", etc]]```"
   ]
  },
  {
   "cell_type": "code",
   "execution_count": 2,
   "metadata": {},
   "outputs": [
    {
     "data": {
      "text/html": [
       "<div>\n",
       "<style scoped>\n",
       "    .dataframe tbody tr th:only-of-type {\n",
       "        vertical-align: middle;\n",
       "    }\n",
       "\n",
       "    .dataframe tbody tr th {\n",
       "        vertical-align: top;\n",
       "    }\n",
       "\n",
       "    .dataframe thead th {\n",
       "        text-align: right;\n",
       "    }\n",
       "</style>\n",
       "<table border=\"1\" class=\"dataframe\">\n",
       "  <thead>\n",
       "    <tr style=\"text-align: right;\">\n",
       "      <th></th>\n",
       "      <th>ADM0_A3</th>\n",
       "      <th>CONTINENT</th>\n",
       "      <th>GDP_MD</th>\n",
       "      <th>NAME</th>\n",
       "      <th>NAME_LONG</th>\n",
       "      <th>POP_EST</th>\n",
       "      <th>REGION_WB</th>\n",
       "      <th>geometry</th>\n",
       "    </tr>\n",
       "  </thead>\n",
       "  <tbody>\n",
       "    <tr>\n",
       "      <th>0</th>\n",
       "      <td>FJI</td>\n",
       "      <td>Oceania</td>\n",
       "      <td>5496</td>\n",
       "      <td>Fiji</td>\n",
       "      <td>Fiji</td>\n",
       "      <td>889953.0</td>\n",
       "      <td>East Asia &amp; Pacific</td>\n",
       "      <td>MULTIPOLYGON (((180 -16.06713, 180 -16.55522, ...</td>\n",
       "    </tr>\n",
       "    <tr>\n",
       "      <th>1</th>\n",
       "      <td>TZA</td>\n",
       "      <td>Africa</td>\n",
       "      <td>63177</td>\n",
       "      <td>Tanzania</td>\n",
       "      <td>Tanzania</td>\n",
       "      <td>58005463.0</td>\n",
       "      <td>Sub-Saharan Africa</td>\n",
       "      <td>POLYGON ((33.90371 -0.95, 34.07262 -1.05982, 3...</td>\n",
       "    </tr>\n",
       "    <tr>\n",
       "      <th>2</th>\n",
       "      <td>SAH</td>\n",
       "      <td>Africa</td>\n",
       "      <td>907</td>\n",
       "      <td>W. Sahara</td>\n",
       "      <td>Western Sahara</td>\n",
       "      <td>603253.0</td>\n",
       "      <td>Middle East &amp; North Africa</td>\n",
       "      <td>POLYGON ((-8.66559 27.65643, -8.66512 27.58948...</td>\n",
       "    </tr>\n",
       "    <tr>\n",
       "      <th>3</th>\n",
       "      <td>CAN</td>\n",
       "      <td>North America</td>\n",
       "      <td>1736425</td>\n",
       "      <td>Canada</td>\n",
       "      <td>Canada</td>\n",
       "      <td>37589262.0</td>\n",
       "      <td>North America</td>\n",
       "      <td>MULTIPOLYGON (((-122.84 49, -122.97421 49.0025...</td>\n",
       "    </tr>\n",
       "    <tr>\n",
       "      <th>4</th>\n",
       "      <td>USA</td>\n",
       "      <td>North America</td>\n",
       "      <td>21433226</td>\n",
       "      <td>United States of America</td>\n",
       "      <td>United States</td>\n",
       "      <td>328239523.0</td>\n",
       "      <td>North America</td>\n",
       "      <td>MULTIPOLYGON (((-122.84 49, -120 49, -117.0312...</td>\n",
       "    </tr>\n",
       "  </tbody>\n",
       "</table>\n",
       "</div>"
      ],
      "text/plain": [
       "  ADM0_A3      CONTINENT    GDP_MD                      NAME       NAME_LONG  \\\n",
       "0     FJI        Oceania      5496                      Fiji            Fiji   \n",
       "1     TZA         Africa     63177                  Tanzania        Tanzania   \n",
       "2     SAH         Africa       907                 W. Sahara  Western Sahara   \n",
       "3     CAN  North America   1736425                    Canada          Canada   \n",
       "4     USA  North America  21433226  United States of America   United States   \n",
       "\n",
       "       POP_EST                   REGION_WB  \\\n",
       "0     889953.0         East Asia & Pacific   \n",
       "1   58005463.0          Sub-Saharan Africa   \n",
       "2     603253.0  Middle East & North Africa   \n",
       "3   37589262.0               North America   \n",
       "4  328239523.0               North America   \n",
       "\n",
       "                                            geometry  \n",
       "0  MULTIPOLYGON (((180 -16.06713, 180 -16.55522, ...  \n",
       "1  POLYGON ((33.90371 -0.95, 34.07262 -1.05982, 3...  \n",
       "2  POLYGON ((-8.66559 27.65643, -8.66512 27.58948...  \n",
       "3  MULTIPOLYGON (((-122.84 49, -122.97421 49.0025...  \n",
       "4  MULTIPOLYGON (((-122.84 49, -120 49, -117.0312...  "
      ]
     },
     "execution_count": 2,
     "metadata": {},
     "output_type": "execute_result"
    }
   ],
   "source": [
    "# Import the file using the 'read_file' function. The file has cultural features, lets just keep some of them.\n",
    "world = gpd.read_file(\"../data/ne_110m_admin_0_countries/ne_110m_admin_0_countries.shp\",\n",
    "                      columns=[\"NAME\", \"NAME_LONG\", \"ADM0_A3\", \"POP_EST\", \"CONTINENT\", \"REGION_WB\",\n",
    "                               \"GDP_MD\", \"ECONOMY 6.\", \"INCOME_GRP 4.\",\n",
    "                               \"geometry\"])\n",
    "\n",
    "# Notice the column geometry - that is where the map components are stored.\n",
    "world.head()\n"
   ]
  },
  {
   "cell_type": "code",
   "execution_count": 3,
   "metadata": {},
   "outputs": [
    {
     "data": {
      "text/plain": [
       "<Axes: >"
      ]
     },
     "execution_count": 3,
     "metadata": {},
     "output_type": "execute_result"
    },
    {
     "data": {
      "image/png": "[encoded data removed]",
      "text/plain": [
       "<Figure size 640x480 with 1 Axes>"
      ]
     },
     "metadata": {},
     "output_type": "display_data"
    }
   ],
   "source": [
    "# basic plotting is just as easy as pandas\n",
    "world.plot()\n"
   ]
  },
  {
   "cell_type": "markdown",
   "metadata": {},
   "source": [
    "## Coordinate Reference System\n",
    "All geodata in the form of shapefiles from reliable sources should have a crs defined. \n",
    "If you create your own data, make sure you set the crs before exporting it and sharing using the .set_crs() function."
   ]
  },
  {
   "cell_type": "code",
   "execution_count": 4,
   "metadata": {},
   "outputs": [
    {
     "data": {
      "text/plain": [
       "<Geographic 2D CRS: EPSG:4326>\n",
       "Name: WGS 84\n",
       "Axis Info [ellipsoidal]:\n",
       "- Lat[north]: Geodetic latitude (degree)\n",
       "- Lon[east]: Geodetic longitude (degree)\n",
       "Area of Use:\n",
       "- name: World.\n",
       "- bounds: (-180.0, -90.0, 180.0, 90.0)\n",
       "Datum: World Geodetic System 1984 ensemble\n",
       "- Ellipsoid: WGS 84\n",
       "- Prime Meridian: Greenwich"
      ]
     },
     "execution_count": 4,
     "metadata": {},
     "output_type": "execute_result"
    }
   ],
   "source": [
    "# You can use a basic command to determine the coordinate reference system.\n",
    "# For more info, you can look at https://kodu.ut.ee/~kmoch/geopython2018/lessons/L2/projections.html\n",
    "world.crs\n"
   ]
  },
  {
   "cell_type": "markdown",
   "metadata": {},
   "source": [
    "### Activity 1\n",
    "**1. Calculate the area of each country in $km^{2}$. Print the top 5 countries by area.**\n",
    "\n",
    "The original CRS is a geographic CRS with angular units, you need to first change the crs to a planar crs - which type is most suitable?\n",
    "\n",
    "More info can be found in the docs [here](https://geopandas.org/en/stable/docs/user_guide/projections.html).\n",
    "\n",
    "**2. Create a plot in your new crs - how is this different to before?**"
   ]
  },
  {
   "cell_type": "code",
   "execution_count": null,
   "metadata": {},
   "outputs": [],
   "source": [
    "# code here to calculate the area of each country in km^2"
   ]
  },
  {
   "cell_type": "code",
   "execution_count": 5,
   "metadata": {},
   "outputs": [],
   "source": [
    "# code here to plot your new crs"
   ]
  },
  {
   "cell_type": "markdown",
   "metadata": {},
   "source": [
    "## Merging data"
   ]
  },
  {
   "cell_type": "markdown",
   "metadata": {},
   "source": [
    "Import the dataset of annual renewable electricity generation by country from [OurWorldInData](https://ourworldindata.org/explorers/energy?tab=table&facet=none&country=USA~GBR~CHN~OWID_WRL~IND~BRA~ZAF&hideControls=false&Total+or+Breakdown=Select+a+source&Energy+or+Electricity=Electricity+only&Metric=Annual+generation&Select+a+source=Renewables) using pandas in the code below."
   ]
  },
  {
   "cell_type": "code",
   "execution_count": 2,
   "metadata": {},
   "outputs": [],
   "source": [
    "aeg = pd.read_csv(\"../Data/electricity-renewables.csv\")\n",
    "aeg = aeg[aeg[\"Year\"]==2019]"
   ]
  },
  {
   "cell_type": "code",
   "execution_count": 3,
   "metadata": {},
   "outputs": [
    {
     "data": {
      "text/html": [
       "<div>\n",
       "<style scoped>\n",
       "    .dataframe tbody tr th:only-of-type {\n",
       "        vertical-align: middle;\n",
       "    }\n",
       "\n",
       "    .dataframe tbody tr th {\n",
       "        vertical-align: top;\n",
       "    }\n",
       "\n",
       "    .dataframe thead th {\n",
       "        text-align: right;\n",
       "    }\n",
       "</style>\n",
       "<table border=\"1\" class=\"dataframe\">\n",
       "  <thead>\n",
       "    <tr style=\"text-align: right;\">\n",
       "      <th></th>\n",
       "      <th>Entity</th>\n",
       "      <th>Code</th>\n",
       "      <th>Year</th>\n",
       "      <th>Electricity from renewables (TWh)</th>\n",
       "    </tr>\n",
       "  </thead>\n",
       "  <tbody>\n",
       "    <tr>\n",
       "      <th>19</th>\n",
       "      <td>ASEAN (Ember)</td>\n",
       "      <td>NaN</td>\n",
       "      <td>2019</td>\n",
       "      <td>236.83000</td>\n",
       "    </tr>\n",
       "    <tr>\n",
       "      <th>42</th>\n",
       "      <td>Afghanistan</td>\n",
       "      <td>AFG</td>\n",
       "      <td>2019</td>\n",
       "      <td>0.89000</td>\n",
       "    </tr>\n",
       "    <tr>\n",
       "      <th>93</th>\n",
       "      <td>Africa</td>\n",
       "      <td>NaN</td>\n",
       "      <td>2019</td>\n",
       "      <td>176.95999</td>\n",
       "    </tr>\n",
       "    <tr>\n",
       "      <th>145</th>\n",
       "      <td>Africa (EI)</td>\n",
       "      <td>NaN</td>\n",
       "      <td>2019</td>\n",
       "      <td>177.24553</td>\n",
       "    </tr>\n",
       "    <tr>\n",
       "      <th>168</th>\n",
       "      <td>Africa (Ember)</td>\n",
       "      <td>NaN</td>\n",
       "      <td>2019</td>\n",
       "      <td>176.96000</td>\n",
       "    </tr>\n",
       "  </tbody>\n",
       "</table>\n",
       "</div>"
      ],
      "text/plain": [
       "             Entity Code  Year  Electricity from renewables (TWh)\n",
       "19    ASEAN (Ember)  NaN  2019                          236.83000\n",
       "42      Afghanistan  AFG  2019                            0.89000\n",
       "93           Africa  NaN  2019                          176.95999\n",
       "145     Africa (EI)  NaN  2019                          177.24553\n",
       "168  Africa (Ember)  NaN  2019                          176.96000"
      ]
     },
     "execution_count": 3,
     "metadata": {},
     "output_type": "execute_result"
    }
   ],
   "source": [
    "aeg.head()"
   ]
  },
  {
   "cell_type": "markdown",
   "metadata": {},
   "source": [
    "### Activity 2\n",
    "**3. Merge you GeoDataFrame with the annual electricity generation dataframe.** <br>\n",
    "Complete the code which has been started for you below."
   ]
  },
  {
   "cell_type": "code",
   "execution_count": null,
   "metadata": {},
   "outputs": [],
   "source": [
    "# merge data\n",
    "combined = gpd.merge()"
   ]
  },
  {
   "cell_type": "markdown",
   "metadata": {},
   "source": [
    "## Choropleth\n",
    "A choropleth map is a type of thematic map where geographic areas (like countries, states, or regions) are colored or shaded according to the values of a statistical variable. The color intensity or pattern represents different ranges of data values, making it easy to visualize spatial patterns and compare values across different areas."
   ]
  },
  {
   "cell_type": "markdown",
   "metadata": {},
   "source": [
    "### Activity 3\n",
    "**4. Calculate a new figure of merit for electricty generation e.g. TWh/person, TWh/GDP, TWh/area.**\n",
    "\n",
    "**5. Plot a [choropleth](https://geopandas.org/en/stable/docs/user_guide/mapping.html#choropleth-maps) of your renewable electricity figure of merit with a legend.**"
   ]
  },
  {
   "cell_type": "code",
   "execution_count": 6,
   "metadata": {},
   "outputs": [],
   "source": [
    "# calculate a new figure of merit"
   ]
  },
  {
   "cell_type": "code",
   "execution_count": null,
   "metadata": {},
   "outputs": [],
   "source": [
    "# plot a choropleth of your figure of merit\n",
    "fig, ax = plt.subplots(1, 1)\n",
    "world.plot(column=, ax=ax, legend=True)\n"
   ]
  },
  {
   "cell_type": "markdown",
   "metadata": {},
   "source": [
    "### Activitiy 4\n",
    "***6. Try adding a basemap using the contextily library following [this guide](https://geopandas.org/en/stable/gallery/plotting_basemap_background.html)***\n",
    "\n",
    "***7. For the 5 highest ranked countries, plot the centroids of the countries and attach labels with with country names.***"
   ]
  },
  {
   "cell_type": "code",
   "execution_count": 7,
   "metadata": {},
   "outputs": [],
   "source": [
    "# add a basemap"
   ]
  },
  {
   "cell_type": "code",
   "execution_count": 8,
   "metadata": {},
   "outputs": [],
   "source": [
    "# plot the centroids of the 5 highest ranked countries"
   ]
  },
  {
   "cell_type": "markdown",
   "metadata": {},
   "source": [
    "## Exporting data\n",
    "Once you've processed and analyzed your geospatial data, you'll often need to save it for future use or sharing with others. GeoPandas makes it easy to export your GeoDataFrames to various geospatial file formats.\n",
    "\n",
    "Common Export Formats:\n",
    "- Shapefile (.shp): The most widely used format, compatible with most GIS software\n",
    "- GeoJSON (.geojson): Web-friendly format, human-readable JSON structure\n",
    "- GeoPackage (.gpkg): Modern SQLite-based format, supports multiple layers\n",
    "\n",
    "Best Practices:\n",
    "Always include the CRS information in your exports (this is done automatically if it has been set for the GeoDataFrame)\n",
    "Use descriptive filenames and include any relevant metadata\n",
    "Avoid long column names - shapefiles limit column names to 10 characters. It is often common to include a readme alongside a shapefile that describes the columns and units etc.\n",
    "Choose the appropriate format for your use case (shapefile for GIS compatibility, GeoJSON for web applications)\n",
    "Test that your exported file can be read back correctly"
   ]
  },
  {
   "cell_type": "markdown",
   "metadata": {},
   "source": [
    "***8. Save your geodataframe with new figure of merit. Try both shape file and Geopack to a new shape file.***"
   ]
  },
  {
   "cell_type": "code",
   "execution_count": null,
   "metadata": {},
   "outputs": [],
   "source": [
    "# Save your geodataframe with new figure of merit. Try both shape file and Geopack to a new shape file\n",
    "# Read https://geopandas.org/io.html#writing-spatial-data\n",
    "\n"
   ]
  }
 ],
 "metadata": {
  "kernelspec": {
   "display_name": "GeoPower",
   "language": "python",
   "name": "python3"
  },
  "language_info": {
   "codemirror_mode": {
    "name": "ipython",
    "version": 3
   },
   "file_extension": ".py",
   "mimetype": "text/x-python",
   "name": "python",
   "nbconvert_exporter": "python",
   "pygments_lexer": "ipython3",
   "version": "3.12.11"
  }
 },
 "nbformat": 4,
 "nbformat_minor": 4
}
