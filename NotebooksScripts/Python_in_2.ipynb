{
 "cells": [
  {
   "cell_type": "markdown",
   "id": "047656ca-19b6-4a20-9d3c-30bde6b43301",
   "metadata": {},
   "source": [
    "# Python in 2 hours"
   ]
  },
  {
   "cell_type": "markdown",
   "id": "52a4e276-2e0f-4a04-a988-53e4580f4100",
   "metadata": {},
   "source": [
    "## Basic python objects"
   ]
  },
  {
   "cell_type": "markdown",
   "id": "358d007e-248e-4e8c-a578-6b2abeb1d526",
   "metadata": {},
   "source": [
    "### Print()\n",
    "The print statement is one of the most basic functions in python. It is used to output data to the console or terminal."
   ]
  },
  {
   "cell_type": "code",
   "execution_count": 13,
   "id": "a4a824c7-c81a-46f8-8e02-4ead292ad016",
   "metadata": {},
   "outputs": [
    {
     "name": "stdout",
     "output_type": "stream",
     "text": [
      "Hello World\n"
     ]
    }
   ],
   "source": [
    "print(\"Hello World\")"
   ]
  },
  {
   "cell_type": "markdown",
   "id": "d43adc1d-08f8-4df9-94f5-bdb4e606a6a3",
   "metadata": {},
   "source": [
    "### Tuples\n",
    "Tuples are ordered collections of elements that cannot be changed, defined using parentheses"
   ]
  },
  {
   "cell_type": "code",
   "execution_count": 5,
   "id": "5ba3ba54-a895-4ffa-b529-acf49275f99b",
   "metadata": {},
   "outputs": [
    {
     "name": "stdout",
     "output_type": "stream",
     "text": [
      "Fri\n"
     ]
    }
   ],
   "source": [
    "days_tuple = (\"Mon\", \"Tues\", \"Weds\", \"Thurs\", \"Fri\", \"Sat\", \"Sun\")\n",
    "print(days_tuple[4])"
   ]
  },
  {
   "cell_type": "code",
   "execution_count": 6,
   "id": "5960433d-0933-4ec7-a7c3-d881bae52d18",
   "metadata": {},
   "outputs": [
    {
     "ename": "TypeError",
     "evalue": "'tuple' object does not support item assignment",
     "output_type": "error",
     "traceback": [
      "\u001b[0;31m---------------------------------------------------------------------------\u001b[0m",
      "\u001b[0;31mTypeError\u001b[0m                                 Traceback (most recent call last)",
      "Cell \u001b[0;32mIn[6], line 1\u001b[0m\n\u001b[0;32m----> 1\u001b[0m \u001b[43mdays_tuple\u001b[49m\u001b[43m[\u001b[49m\u001b[38;5;241;43m2\u001b[39;49m\u001b[43m]\u001b[49m \u001b[38;5;241m=\u001b[39m \u001b[38;5;124m\"\u001b[39m\u001b[38;5;124mMercredi\u001b[39m\u001b[38;5;124m\"\u001b[39m\n",
      "\u001b[0;31mTypeError\u001b[0m: 'tuple' object does not support item assignment"
     ]
    }
   ],
   "source": [
    "days_tuple[2] = \"Mercredi\""
   ]
  },
  {
   "cell_type": "markdown",
   "id": "0a887c6d-8c1b-4e5f-848d-d80bd13b479e",
   "metadata": {},
   "source": [
    "### Lists\n",
    "Lists are ordered collections of elements that can be changed, defined using square brackets."
   ]
  },
  {
   "cell_type": "code",
   "execution_count": 7,
   "id": "60b83765-4852-4b26-ba7a-3ae0f8a66906",
   "metadata": {},
   "outputs": [
    {
     "name": "stdout",
     "output_type": "stream",
     "text": [
      "4\n"
     ]
    }
   ],
   "source": [
    "l = [1, 2, 3, 4, 5]\n",
    "print(l[3])"
   ]
  },
  {
   "cell_type": "code",
   "execution_count": 10,
   "id": "64509a2c-94d6-4987-969f-22638a6ac96a",
   "metadata": {},
   "outputs": [
    {
     "name": "stdout",
     "output_type": "stream",
     "text": [
      "[1, 2, 3, 'Four', 5]\n"
     ]
    }
   ],
   "source": [
    "l[3] = \"Four\"\n",
    "print(l)"
   ]
  },
  {
   "cell_type": "markdown",
   "id": "51f85860-9ee8-4c57-95f3-581120d4f9be",
   "metadata": {},
   "source": [
    "### Dictionaries\n",
    "Dictionaries are unordered collections of key-value pairs, each key is unique and identifies a corresponding value. Dictionaries are defined using curly braes with the key-value pair separated by commas."
   ]
  },
  {
   "cell_type": "code",
   "execution_count": 12,
   "id": "1f21dd5e-59b1-4b3b-a06b-fab941d61949",
   "metadata": {},
   "outputs": [
    {
     "name": "stdout",
     "output_type": "stream",
     "text": [
      "750.0\n"
     ]
    }
   ],
   "source": [
    "osney = {\"ID\": 1,\n",
    "         \"Name\": \"Osney Mead Pylon\",\n",
    "         \"Power Rating (kVA)\": 750.0,\n",
    "         \"Latitude\": 51.7466906,\n",
    "         \"Longitude\": -1.2723358}\n",
    "print(osney[\"Power Rating (kVA)\"])"
   ]
  },
  {
   "attachments": {},
   "cell_type": "markdown",
   "id": "a4935984-b09c-45b3-b8f8-987c198fcb40",
   "metadata": {},
   "source": [
    "## Conditional statements\n",
    "Conditional statements allow you to control the flow of a program based on the evaluation of a logical expression – whether a condition is true or false.\n",
    "\n",
    "Conditional operators in python include:\n",
    "\n",
    "|condition|operators|\n",
    "|---|---|\n",
    "|Equal to|==|\n",
    "|Not equal to|!=|\n",
    "|Less than|<|\n",
    "|Less than or equal to|<=|\n",
    "|Greater than|>|\n",
    "|Greater than or equal to|>=|\n",
    "\n",
    "Conditional statements can be combined using the logical operators and, or and not. \n",
    "\n",
    "What do you think the output of the below conditional statement is when x=7?\n",
    "\n",
    "```not(x<5 and x<10)```\n",
    "\n",
    "Try it below"
   ]
  },
  {
   "cell_type": "code",
   "execution_count": 14,
   "id": "710c13da-9163-432e-94a6-ca5414194809",
   "metadata": {},
   "outputs": [],
   "source": [
    "x=7\n"
   ]
  },
  {
   "cell_type": "markdown",
   "id": "9b4bd73d-1c1a-4b7d-9366-7c6055a53849",
   "metadata": {},
   "source": [
    "### If condition\n",
    "The ```if``` function can be used to determine the logical order of actions to execute. "
   ]
  },
  {
   "cell_type": "code",
   "execution_count": 15,
   "id": "27a8d64a-ffab-4231-ac67-c5381fece954",
   "metadata": {},
   "outputs": [
    {
     "name": "stdout",
     "output_type": "stream",
     "text": [
      "a is greater than b\n"
     ]
    }
   ],
   "source": [
    "a = 200\n",
    "b = 33\n",
    "if b > a:\n",
    "    print(\"b is greater than a\")\n",
    "elif a==b:\n",
    "    print(\"a and b are equal\")\n",
    "else:\n",
    "    print(\"a is greater than b\")"
   ]
  },
  {
   "cell_type": "markdown",
   "id": "8228f4cd-b651-4327-9ac1-774e8ef2507b",
   "metadata": {},
   "source": [
    "## Loops\n",
    "Loops are used to execute a block of code repeatedly until a condition is met. There are two types:\n",
    "- For loops: used to iterate over a sequence of objects\n",
    "- While loops: used to execute a block of code while a certain condition is true."
   ]
  },
  {
   "cell_type": "markdown",
   "id": "2a867de1-a028-4c45-9fd4-e99e501d50e7",
   "metadata": {},
   "source": [
    "### For loops\n",
    "Classed as an iteration statement, it allows for part of the code to be repeatedly executed."
   ]
  },
  {
   "cell_type": "code",
   "execution_count": 16,
   "id": "e5fa675e-cd1d-4289-bfeb-233bbfefa94b",
   "metadata": {},
   "outputs": [
    {
     "name": "stdout",
     "output_type": "stream",
     "text": [
      "Namibia\n",
      "Portugal\n",
      "Egypt\n",
      "Haiti\n",
      "Thailand\n",
      "Bolivia\n",
      "Estonia\n"
     ]
    }
   ],
   "source": [
    "countries = [\"Namibia\", \"Portugal\", \"Egypt\", \"Haiti\", \"Thailand\", \"Bolivia\", \"Estonia\"]\n",
    "for country in countries:\n",
    "    print(country)"
   ]
  },
  {
   "cell_type": "code",
   "execution_count": 19,
   "id": "ffdf2c33-2330-48e2-8b23-8ef2cd91253a",
   "metadata": {},
   "outputs": [
    {
     "name": "stdout",
     "output_type": "stream",
     "text": [
      "[1.0, 2.5, 18.0, 10.5]\n"
     ]
    }
   ],
   "source": [
    "power = [2, 5, 36, 21]\n",
    "energy = [kW/2 for kW in power]  # this is an example of python list comprehension. How would you right it in the conventional way as the cell above?\n",
    "print(energy)"
   ]
  },
  {
   "cell_type": "code",
   "execution_count": null,
   "id": "52d7d52a-98f0-4848-985f-473c473ec852",
   "metadata": {},
   "outputs": [],
   "source": []
  },
  {
   "cell_type": "markdown",
   "id": "7b249e29-969f-4c59-a782-560f45aa0ef8",
   "metadata": {},
   "source": [
    "### While loops\n",
    "While loops are control statements that allow part of a code to be executed repeatedly provided that a certain condition is being met."
   ]
  },
  {
   "cell_type": "code",
   "execution_count": 21,
   "id": "77c18202-b879-4477-a217-d7c57f8b28f9",
   "metadata": {},
   "outputs": [
    {
     "name": "stdin",
     "output_type": "stream",
     "text": [
      "What is the meaning of life? Happiness\n"
     ]
    },
    {
     "name": "stdout",
     "output_type": "stream",
     "text": [
      "Try again...\n"
     ]
    },
    {
     "name": "stdin",
     "output_type": "stream",
     "text": [
      "What is the meaning of life? wifi\n"
     ]
    },
    {
     "name": "stdout",
     "output_type": "stream",
     "text": [
      "Try again...\n"
     ]
    },
    {
     "name": "stdin",
     "output_type": "stream",
     "text": [
      "What is the meaning of life? 42\n"
     ]
    },
    {
     "name": "stdout",
     "output_type": "stream",
     "text": [
      "Correct\n"
     ]
    }
   ],
   "source": [
    "answer = input(\"What is the meaning of life?\")  # this uses the input function which can be used to capture user input from the console\n",
    "while answer != \"42\":\n",
    "    print(\"Try again...\")\n",
    "    answer = input(\"What is the meaning of life?\")\n",
    "print(\"Correct\")"
   ]
  },
  {
   "attachments": {},
   "cell_type": "markdown",
   "id": "a0f027b5-e97d-44ef-ae4b-23972858a6ea",
   "metadata": {},
   "source": [
    "## Functions\n",
    "You will often want to reuse blocks of code throughout a program. \u000b",
    "This can be achieved using Functions.\n",
    "\n",
    "Functions take input parameters, apply generalised code, and return output values.\n",
    "\n",
    "Functions:\n",
    "- Reusability – saving you time\n",
    "- Modularity – easier to maintain and develop\n",
    "- Encapsulation – protect from errors"
   ]
  },
  {
   "cell_type": "code",
   "execution_count": 22,
   "id": "51753be1-a1d2-433e-8ab2-8200f2e994c2",
   "metadata": {},
   "outputs": [],
   "source": [
    "def energy_function(name, power, time=24):  # To define a function, use the def keyword\n",
    "    \"\"\"\n",
    "    This is a docstring. It can be used as documentation to explain what the function does and how to use it.\n",
    "\n",
    "    \n",
    "    \n",
    "    \"\"\"\n",
    "    energy = power * time\n",
    "    print(\"{} power station produces {:.2f} MWh of energy in {:.1f} hours\".format(name, energy, float(time)))\n",
    "    return energy  # to return a result, use the return keyword"
   ]
  },
  {
   "cell_type": "code",
   "execution_count": 24,
   "id": "aa4a92e3-ec36-43e6-8231-c7f6aa087f3a",
   "metadata": {},
   "outputs": [
    {
     "name": "stdout",
     "output_type": "stream",
     "text": [
      "Didcot power station produces 48.00 MWh of energy in 24.0 hours\n"
     ]
    }
   ],
   "source": [
    "# To call the function, use the function name and supply input parameters within parentheses. Any outputs can be assigned to variables.\n",
    "result = energy_function(\"Didcot\", 2, 24)"
   ]
  },
  {
   "cell_type": "code",
   "execution_count": 25,
   "id": "527a1664-31eb-477a-92ec-45d42fd29c2a",
   "metadata": {},
   "outputs": [
    {
     "data": {
      "text/plain": [
       "48"
      ]
     },
     "execution_count": 25,
     "metadata": {},
     "output_type": "execute_result"
    }
   ],
   "source": [
    "result"
   ]
  },
  {
   "cell_type": "markdown",
   "id": "d25570ce-5090-4f69-a618-0c8d80220ca0",
   "metadata": {},
   "source": [
    "## Classes\n",
    "Python is a multi-paradigm language, it supports multiple programming paradigms such as procedural and object-orientated. An object orientated language (OOL) use objects that bundle together data (attributes or properties) and behaviours (methods or functions) into blueprints that behave in the same way. In object-orientated languages, you think of a program in terms of objects that interact with each other.\n",
    "\n",
    "Objects are created using the Class keyword.\n",
    "\n",
    "On creation, the __init__() initiation function is run. Use the __init__() function to assign values to object properties, or other operations that are necessary to do when the object is being created. "
   ]
  },
  {
   "cell_type": "code",
   "execution_count": 31,
   "id": "c30e0996-9b0f-4864-9e12-ee41e04b4a9c",
   "metadata": {},
   "outputs": [],
   "source": [
    "class PowerStation():\n",
    "    def __init__(self, name, power):\n",
    "        self.name = name\n",
    "        self.power = power\n",
    "\n",
    "    def energy_function(self, time=24):  # To define a function, use the def keyword\n",
    "        energy = self.power * time\n",
    "        print(\"{} power station produces {:.2f} MWh of energy in {:.1f} hours\".format(self.name, energy, float(time)))"
   ]
  },
  {
   "cell_type": "code",
   "execution_count": 33,
   "id": "56305525-f83c-43e0-a3d0-8fa5ddaebeba",
   "metadata": {},
   "outputs": [
    {
     "name": "stdout",
     "output_type": "stream",
     "text": [
      "Didcot power station produces 22.40 MWh of energy in 16.0 hours\n",
      "Drax power station produces 93.60 MWh of energy in 24.0 hours\n"
     ]
    }
   ],
   "source": [
    "Didcot = PowerStation(\"Didcot\", 1.4)\n",
    "Drax = PowerStation(\"Drax\", 3.9)\n",
    "Didcot.energy_function(16)\n",
    "Drax.energy_function()"
   ]
  },
  {
   "cell_type": "code",
   "execution_count": null,
   "id": "f4f10a76-384e-44dc-849d-92f65f08f7a0",
   "metadata": {},
   "outputs": [],
   "source": []
  },
  {
   "attachments": {},
   "cell_type": "markdown",
   "id": "f6e2b99f-6f5e-4e21-ad77-a48ac848601a",
   "metadata": {},
   "source": [
    "## Libraries\n",
    "Python libraries provide pre-written code from common (dealing with dates and times) to advanced (machine learning) tasks, saving time and effort, increasing productivity, improving code quality, and making code more reusable and maintainable.\n",
    "\n",
    "**Module** is a file which contains various Python functions and global variables. It is simply just .py extension file which has python executable code.\n",
    "\n",
    "**Package** is a simple directory structure having a collection of modules. It must contain an __init__.py file as a flag so that the python interpreter processes it as such.\n",
    "\n",
    "**Library** is a collection of modules or code for distribution which provides the functionality to perform many (often related) tasks without writing your own code.\n",
    "\n",
    "Libraries are imported into your code / console using the import statement."
   ]
  },
  {
   "cell_type": "code",
   "execution_count": 36,
   "id": "69eb4d77-55b4-47ea-87ad-e14e791f2c3a",
   "metadata": {},
   "outputs": [],
   "source": [
    "import datetime  # this imports the library datetime. To use it, type the name of the library and use dot notation to access its functions.\n",
    "import numpy as np, pandas as pd  # you can also assign the library to a shorthand name such as np rather than having to type numpy.\n",
    "from math import *  # you can also import all functions from a library to use them directly, rather than through dot notation. \n",
    "# However, this can be very inefficient."
   ]
  },
  {
   "cell_type": "code",
   "execution_count": 40,
   "id": "121e20d2-6f07-435e-9859-8e3248e320b3",
   "metadata": {},
   "outputs": [
    {
     "name": "stdout",
     "output_type": "stream",
     "text": [
      "2023-12-25 00:00:00\n"
     ]
    }
   ],
   "source": [
    "start = datetime.datetime(2024, 9, 4)\n",
    "days = datetime.timedelta(days = 254)\n",
    "print(start - days)"
   ]
  },
  {
   "attachments": {},
   "cell_type": "markdown",
   "id": "b5337ac4-0797-4537-9d51-b090e87d606a",
   "metadata": {},
   "source": [
    "## Numpy\n",
    "NumPy is the fundamental package for scientific computing in Python. It is used across many fields inc. Mathematics, Engineering, Finance, Data Science, Artificial Intelligence, Machine Learning etc. Most scientific computing libraries will build on NumPy.\n",
    "\n",
    "Numpy provides functions to work with N-dimensional arrays and an assortment of routines for fast operations on such arrays: matrix mathematics, logical, shape manipulation, statistical operations, random simulation etc.\n",
    "\n",
    "First, lets make sure numpy is imported:"
   ]
  },
  {
   "cell_type": "code",
   "execution_count": 60,
   "id": "7bbefd4f-8383-43e1-b1a2-96073e63a063",
   "metadata": {},
   "outputs": [],
   "source": [
    "import numpy as np"
   ]
  },
  {
   "cell_type": "markdown",
   "id": "11891962-82c9-4750-a35e-4609ab7a53de",
   "metadata": {},
   "source": [
    "### Array creation and Indexing\n",
    "\n",
    "In the cells below we will learn basic array creation and indexing\n"
   ]
  },
  {
   "cell_type": "code",
   "execution_count": 64,
   "id": "f606100d-27d2-4f78-b4c2-ead89afb1a14",
   "metadata": {},
   "outputs": [
    {
     "name": "stdout",
     "output_type": "stream",
     "text": [
      "Numpy Array 'a':\n",
      "<class 'numpy.ndarray'>\n",
      "(3,)\n",
      "1 2 3\n",
      "[5 2 3] \n",
      "\n",
      "Numpy Array 'b':\n",
      "(2, 3)\n",
      "[[1 2 3]\n",
      " [4 5 6]]\n",
      "1 2 4\n"
     ]
    }
   ],
   "source": [
    "import numpy as np\n",
    "\n",
    "a = np.array([1, 2, 3])            # Create a simple array\n",
    "print(\"Numpy Array 'a':\")\n",
    "print(type(a))                     # Prints type as recognised by Python\n",
    "print(a.shape)                     # Prints its shape\n",
    "print(a[0], a[1], a[2])            # Prints certain indexed values\n",
    "a[0] = 5                           # Change an element of the array\n",
    "print(a,\"\\n\")                   \n",
    "\n",
    "\n",
    "print(\"Numpy Array 'b':\")\n",
    "b = np.array([[1,2,3],[4,5,6]])    # Create an array with more 'complexity'\n",
    "print(b.shape)\n",
    "print(b)                     \n",
    "print(b[0, 0], b[0, 1], b[1, 0])  \n"
   ]
  },
  {
   "cell_type": "markdown",
   "id": "0ff7ce32-3d49-4ac5-90e6-60dff991dcd7",
   "metadata": {},
   "source": [
    "**Your turn...**"
   ]
  },
  {
   "cell_type": "code",
   "execution_count": null,
   "id": "b703dec7-6864-478b-b905-f62ebf43f4b3",
   "metadata": {},
   "outputs": [],
   "source": [
    "# Create the following 3 x 4 array and call it 'c':\n",
    "\n",
    "# [[ 1  2  3  4]\n",
    "#  [ 5  6  7  8]\n",
    "#  [ 9 10 11 12]]\n",
    "\n",
    "c = \n",
    "\n",
    "# Follow the instructions below to print the correct parts of the array:\n",
    "\n",
    "ques_1 =    # Print all values in rows 2 & 3\n",
    "ques_2 =    # Print all values in the 2nd rows and found in cols 2 & 3\n",
    "ques_3 =    # perform a scalar multiplication of c with 4\n",
    "ques_4 =    # transpose c\n",
    "ques_5 =    # reshape c to a 4 x 3 array, what is the difference between the transpose and reshape operations?\n",
    "ques_6 =    # perform an element wise multiplicaton of the reshaped c and transposed c "
   ]
  },
  {
   "cell_type": "markdown",
   "id": "f189409e-ff2a-4fd7-af45-d2f95026d3c1",
   "metadata": {},
   "source": [
    "### Going a bit further"
   ]
  },
  {
   "cell_type": "code",
   "execution_count": 45,
   "id": "1d85b911-e2ce-434f-82c9-56ecbef7e94b",
   "metadata": {},
   "outputs": [],
   "source": [
    "# create a random half hourly power profile for 1 year\n",
    "power = np.random.uniform(low=0.0, high=50.0, size=48*365)"
   ]
  },
  {
   "cell_type": "code",
   "execution_count": 50,
   "id": "4dab558e-c1f4-46a0-b8ab-b5d7ca23c015",
   "metadata": {},
   "outputs": [
    {
     "data": {
      "text/plain": [
       "(17520,)"
      ]
     },
     "execution_count": 50,
     "metadata": {},
     "output_type": "execute_result"
    }
   ],
   "source": [
    "power.shape"
   ]
  },
  {
   "cell_type": "code",
   "execution_count": 51,
   "id": "23ce75c7-afae-4d36-8327-224252d4d482",
   "metadata": {},
   "outputs": [
    {
     "data": {
      "text/plain": [
       "array([40.39304393, 14.66801222, 45.91894514, ..., 25.46301457,\n",
       "       12.99055848, 49.78886439])"
      ]
     },
     "execution_count": 51,
     "metadata": {},
     "output_type": "execute_result"
    }
   ],
   "source": [
    "power"
   ]
  },
  {
   "cell_type": "code",
   "execution_count": 55,
   "id": "84da80da-b314-43d8-a046-3d6369093074",
   "metadata": {},
   "outputs": [],
   "source": [
    "# reshape the array into daily half hour profiles\n",
    "daily = power.reshape((48,-1))"
   ]
  },
  {
   "cell_type": "code",
   "execution_count": 56,
   "id": "e251685a-7cc7-4ad4-a25f-b447697a95e7",
   "metadata": {},
   "outputs": [
    {
     "data": {
      "text/plain": [
       "(48, 365)"
      ]
     },
     "execution_count": 56,
     "metadata": {},
     "output_type": "execute_result"
    }
   ],
   "source": [
    "daily.shape"
   ]
  },
  {
   "cell_type": "code",
   "execution_count": 57,
   "id": "096763e7-10cb-4934-93f0-0958ded9719b",
   "metadata": {},
   "outputs": [
    {
     "data": {
      "text/plain": [
       "array([[40.39304393, 14.66801222, 45.91894514, ..., 32.46638559,\n",
       "         0.38731334, 42.25511815],\n",
       "       [21.31729529, 10.210906  , 39.28136163, ..., 30.44742672,\n",
       "        26.51258708, 34.45060323],\n",
       "       [24.22564369,  5.45782915, 30.66838014, ..., 44.73257075,\n",
       "         9.27730822, 42.10538128],\n",
       "       ...,\n",
       "       [ 3.65064131,  6.23462347, 25.89944777, ..., 15.87906523,\n",
       "        21.89917677, 37.08118277],\n",
       "       [11.01450831, 11.60384704,  2.68453442, ..., 17.21696307,\n",
       "        21.90753567, 42.57896441],\n",
       "       [18.30656245,  4.24233283, 14.79442437, ..., 25.46301457,\n",
       "        12.99055848, 49.78886439]])"
      ]
     },
     "execution_count": 57,
     "metadata": {},
     "output_type": "execute_result"
    }
   ],
   "source": [
    "daily"
   ]
  },
  {
   "cell_type": "code",
   "execution_count": 58,
   "id": "3e8a6232-0c2a-4e8f-99f9-dccbc9b588a6",
   "metadata": {},
   "outputs": [],
   "source": [
    "# convert to energy\n",
    "daily_energy = daily / 2"
   ]
  },
  {
   "cell_type": "code",
   "execution_count": 59,
   "id": "35a89dba-9b55-4da7-850b-d0838db11b69",
   "metadata": {},
   "outputs": [
    {
     "data": {
      "text/plain": [
       "array([[20.19652196,  7.33400611, 22.95947257, ..., 16.2331928 ,\n",
       "         0.19365667, 21.12755907],\n",
       "       [10.65864764,  5.105453  , 19.64068082, ..., 15.22371336,\n",
       "        13.25629354, 17.22530161],\n",
       "       [12.11282184,  2.72891457, 15.33419007, ..., 22.36628537,\n",
       "         4.63865411, 21.05269064],\n",
       "       ...,\n",
       "       [ 1.82532065,  3.11731173, 12.94972389, ...,  7.93953261,\n",
       "        10.94958838, 18.54059139],\n",
       "       [ 5.50725416,  5.80192352,  1.34226721, ...,  8.60848153,\n",
       "        10.95376784, 21.28948221],\n",
       "       [ 9.15328122,  2.12116641,  7.39721218, ..., 12.73150728,\n",
       "         6.49527924, 24.8944322 ]])"
      ]
     },
     "execution_count": 59,
     "metadata": {},
     "output_type": "execute_result"
    }
   ],
   "source": [
    "daily_energy"
   ]
  },
  {
   "attachments": {},
   "cell_type": "markdown",
   "id": "df4ac6dd-dc66-495b-83e0-8e4e3ab740cb",
   "metadata": {},
   "source": [
    "## Pandas\n",
    "\n",
    "Pandas is the go-to for data processing in python. (it is built on Numpy).\n",
    "\n",
    "Pandas provides tabular data structures for high-performance functions to analyse, clean, explore, and manipulate ‘big’ multidimensional and heterogeneous data.\n",
    "\n",
    "Think of Pandas data structures like you would a spreadsheet (like in Excel) or an SQL table – but faster, easier and more powerful.\n",
    "\n",
    "Pandas has two core data structures:\n",
    "\n",
    "**Series** - A one-dimensional labelled homogeneous array containing data of any type. It is similar to a list, but has additional features such as indexing, slicing, and missing value handling. \n",
    "\n",
    "**DataFrame** - A two-dimensional, labelled, and heterogeneous tabular data structure with its own indexing system.\n",
    "\n",
    "First, lets make sure pandas has been imported:"
   ]
  },
  {
   "cell_type": "code",
   "execution_count": 65,
   "id": "37be5f34-3018-4d4f-bf8f-a3a77e51285c",
   "metadata": {},
   "outputs": [],
   "source": [
    "import pandas as pd"
   ]
  },
  {
   "attachments": {},
   "cell_type": "markdown",
   "id": "f5e8b954-9f95-4028-ae87-f4495b87dc35",
   "metadata": {},
   "source": [
    "### Creating DataFrames\n",
    "There are many ways to create a DataFrame, from scratch, most closely resemble a python dictionary with nested lists."
   ]
  },
  {
   "cell_type": "code",
   "execution_count": 74,
   "id": "0012cb5d-0562-4f8e-8f5f-0bbee7009523",
   "metadata": {},
   "outputs": [
    {
     "data": {
      "text/html": [
       "<div>\n",
       "<style scoped>\n",
       "    .dataframe tbody tr th:only-of-type {\n",
       "        vertical-align: middle;\n",
       "    }\n",
       "\n",
       "    .dataframe tbody tr th {\n",
       "        vertical-align: top;\n",
       "    }\n",
       "\n",
       "    .dataframe thead th {\n",
       "        text-align: right;\n",
       "    }\n",
       "</style>\n",
       "<table border=\"1\" class=\"dataframe\">\n",
       "  <thead>\n",
       "    <tr style=\"text-align: right;\">\n",
       "      <th></th>\n",
       "      <th>Country</th>\n",
       "      <th>Primary Energy Consumption (TWh)</th>\n",
       "    </tr>\n",
       "  </thead>\n",
       "  <tbody>\n",
       "    <tr>\n",
       "      <th>0</th>\n",
       "      <td>Namibia</td>\n",
       "      <td>22</td>\n",
       "    </tr>\n",
       "    <tr>\n",
       "      <th>1</th>\n",
       "      <td>Portugal</td>\n",
       "      <td>258</td>\n",
       "    </tr>\n",
       "    <tr>\n",
       "      <th>2</th>\n",
       "      <td>Egypt</td>\n",
       "      <td>1105</td>\n",
       "    </tr>\n",
       "    <tr>\n",
       "      <th>3</th>\n",
       "      <td>Haiti</td>\n",
       "      <td>12</td>\n",
       "    </tr>\n",
       "    <tr>\n",
       "      <th>4</th>\n",
       "      <td>Thailand</td>\n",
       "      <td>1406</td>\n",
       "    </tr>\n",
       "    <tr>\n",
       "      <th>5</th>\n",
       "      <td>Bolivia</td>\n",
       "      <td>85</td>\n",
       "    </tr>\n",
       "    <tr>\n",
       "      <th>6</th>\n",
       "      <td>Estonia</td>\n",
       "      <td>62</td>\n",
       "    </tr>\n",
       "  </tbody>\n",
       "</table>\n",
       "</div>"
      ],
      "text/plain": [
       "    Country  Primary Energy Consumption (TWh)\n",
       "0   Namibia                                22\n",
       "1  Portugal                               258\n",
       "2     Egypt                              1105\n",
       "3     Haiti                                12\n",
       "4  Thailand                              1406\n",
       "5   Bolivia                                85\n",
       "6   Estonia                                62"
      ]
     },
     "execution_count": 74,
     "metadata": {},
     "output_type": "execute_result"
    }
   ],
   "source": [
    "df = pd.DataFrame({\"Country\": countries, # countries is a list we made earlier\n",
    "                   \"Primary Energy Consumption (TWh)\": [22, 258, 1105, 12, 1406, 85, 62]})\n",
    "df"
   ]
  },
  {
   "cell_type": "markdown",
   "id": "925cc4c4-2221-44d0-bcc9-d890f5742497",
   "metadata": {},
   "source": [
    "### Importing data\n",
    "Pandas makes it easy to import data from files such as csv, excel or databases with a typical syntax below\n",
    "\n",
    "```\n",
    "df = pd.read_csv('filename.txt', sep=\" \", header=None, names=[\"a\",\"b\",\"c\"])\n",
    "```\n",
    "you can also import data from urls:"
   ]
  },
  {
   "cell_type": "code",
   "execution_count": 69,
   "id": "2a0aa6d7-f048-41a4-985f-af42149dd833",
   "metadata": {},
   "outputs": [],
   "source": [
    "# The following implies an internet connection of course\n",
    "usa_power_plants = pd.read_csv('https://raw.githubusercontent.com/wri/global-power-plant-database/master/source_databases_csv/database_USA.csv')\n"
   ]
  },
  {
   "cell_type": "code",
   "execution_count": 71,
   "id": "a11462ba-3407-4e25-bbb0-242b8801d602",
   "metadata": {},
   "outputs": [
    {
     "data": {
      "text/html": [
       "<div>\n",
       "<style scoped>\n",
       "    .dataframe tbody tr th:only-of-type {\n",
       "        vertical-align: middle;\n",
       "    }\n",
       "\n",
       "    .dataframe tbody tr th {\n",
       "        vertical-align: top;\n",
       "    }\n",
       "\n",
       "    .dataframe thead th {\n",
       "        text-align: right;\n",
       "    }\n",
       "</style>\n",
       "<table border=\"1\" class=\"dataframe\">\n",
       "  <thead>\n",
       "    <tr style=\"text-align: right;\">\n",
       "      <th></th>\n",
       "      <th>country</th>\n",
       "      <th>country_long</th>\n",
       "      <th>name</th>\n",
       "      <th>gppd_idnr</th>\n",
       "      <th>capacity_mw</th>\n",
       "      <th>latitude</th>\n",
       "      <th>longitude</th>\n",
       "      <th>primary_fuel</th>\n",
       "      <th>other_fuel1</th>\n",
       "      <th>other_fuel2</th>\n",
       "      <th>...</th>\n",
       "      <th>year_of_capacity_data</th>\n",
       "      <th>generation_gwh_2013</th>\n",
       "      <th>generation_gwh_2014</th>\n",
       "      <th>generation_gwh_2015</th>\n",
       "      <th>generation_gwh_2016</th>\n",
       "      <th>generation_gwh_2017</th>\n",
       "      <th>generation_gwh_2018</th>\n",
       "      <th>generation_gwh_2019</th>\n",
       "      <th>generation_data_source</th>\n",
       "      <th>estimated_generation_gwh</th>\n",
       "    </tr>\n",
       "  </thead>\n",
       "  <tbody>\n",
       "    <tr>\n",
       "      <th>0</th>\n",
       "      <td>USA</td>\n",
       "      <td>United States of America</td>\n",
       "      <td>10 Briggs Solar NG  LLC (East)</td>\n",
       "      <td>USA0062781</td>\n",
       "      <td>0.0</td>\n",
       "      <td>41.6327</td>\n",
       "      <td>-71.4963</td>\n",
       "      <td>NaN</td>\n",
       "      <td>NaN</td>\n",
       "      <td>NaN</td>\n",
       "      <td>...</td>\n",
       "      <td>2019.0</td>\n",
       "      <td>NaN</td>\n",
       "      <td>NaN</td>\n",
       "      <td>NaN</td>\n",
       "      <td>NaN</td>\n",
       "      <td>NaN</td>\n",
       "      <td>NaN</td>\n",
       "      <td>NaN</td>\n",
       "      <td>NaN</td>\n",
       "      <td>NaN</td>\n",
       "    </tr>\n",
       "    <tr>\n",
       "      <th>1</th>\n",
       "      <td>USA</td>\n",
       "      <td>United States of America</td>\n",
       "      <td>100 Brook Hill Drive Solar</td>\n",
       "      <td>USA0063292</td>\n",
       "      <td>2.0</td>\n",
       "      <td>41.0930</td>\n",
       "      <td>-73.9828</td>\n",
       "      <td>Solar</td>\n",
       "      <td>NaN</td>\n",
       "      <td>NaN</td>\n",
       "      <td>...</td>\n",
       "      <td>2019.0</td>\n",
       "      <td>NaN</td>\n",
       "      <td>NaN</td>\n",
       "      <td>NaN</td>\n",
       "      <td>NaN</td>\n",
       "      <td>NaN</td>\n",
       "      <td>NaN</td>\n",
       "      <td>2.467</td>\n",
       "      <td>U.S. Energy Information Administration</td>\n",
       "      <td>NaN</td>\n",
       "    </tr>\n",
       "    <tr>\n",
       "      <th>2</th>\n",
       "      <td>USA</td>\n",
       "      <td>United States of America</td>\n",
       "      <td>1001 Ebenezer Church Solar</td>\n",
       "      <td>USA0063444</td>\n",
       "      <td>0.0</td>\n",
       "      <td>36.2838</td>\n",
       "      <td>-80.8434</td>\n",
       "      <td>NaN</td>\n",
       "      <td>NaN</td>\n",
       "      <td>NaN</td>\n",
       "      <td>...</td>\n",
       "      <td>2019.0</td>\n",
       "      <td>NaN</td>\n",
       "      <td>NaN</td>\n",
       "      <td>NaN</td>\n",
       "      <td>NaN</td>\n",
       "      <td>NaN</td>\n",
       "      <td>NaN</td>\n",
       "      <td>NaN</td>\n",
       "      <td>NaN</td>\n",
       "      <td>NaN</td>\n",
       "    </tr>\n",
       "    <tr>\n",
       "      <th>3</th>\n",
       "      <td>USA</td>\n",
       "      <td>United States of America</td>\n",
       "      <td>1008 Matthews Solar</td>\n",
       "      <td>USA0063447</td>\n",
       "      <td>0.0</td>\n",
       "      <td>36.2167</td>\n",
       "      <td>-80.5525</td>\n",
       "      <td>NaN</td>\n",
       "      <td>NaN</td>\n",
       "      <td>NaN</td>\n",
       "      <td>...</td>\n",
       "      <td>2019.0</td>\n",
       "      <td>NaN</td>\n",
       "      <td>NaN</td>\n",
       "      <td>NaN</td>\n",
       "      <td>NaN</td>\n",
       "      <td>NaN</td>\n",
       "      <td>NaN</td>\n",
       "      <td>NaN</td>\n",
       "      <td>NaN</td>\n",
       "      <td>NaN</td>\n",
       "    </tr>\n",
       "  </tbody>\n",
       "</table>\n",
       "<p>4 rows × 27 columns</p>\n",
       "</div>"
      ],
      "text/plain": [
       "  country              country_long                            name  \\\n",
       "0     USA  United States of America  10 Briggs Solar NG  LLC (East)   \n",
       "1     USA  United States of America      100 Brook Hill Drive Solar   \n",
       "2     USA  United States of America      1001 Ebenezer Church Solar   \n",
       "3     USA  United States of America             1008 Matthews Solar   \n",
       "\n",
       "    gppd_idnr  capacity_mw  latitude  longitude primary_fuel other_fuel1  \\\n",
       "0  USA0062781          0.0   41.6327   -71.4963          NaN         NaN   \n",
       "1  USA0063292          2.0   41.0930   -73.9828        Solar         NaN   \n",
       "2  USA0063444          0.0   36.2838   -80.8434          NaN         NaN   \n",
       "3  USA0063447          0.0   36.2167   -80.5525          NaN         NaN   \n",
       "\n",
       "  other_fuel2  ... year_of_capacity_data  generation_gwh_2013  \\\n",
       "0         NaN  ...                2019.0                  NaN   \n",
       "1         NaN  ...                2019.0                  NaN   \n",
       "2         NaN  ...                2019.0                  NaN   \n",
       "3         NaN  ...                2019.0                  NaN   \n",
       "\n",
       "  generation_gwh_2014 generation_gwh_2015 generation_gwh_2016  \\\n",
       "0                 NaN                 NaN                 NaN   \n",
       "1                 NaN                 NaN                 NaN   \n",
       "2                 NaN                 NaN                 NaN   \n",
       "3                 NaN                 NaN                 NaN   \n",
       "\n",
       "  generation_gwh_2017  generation_gwh_2018  generation_gwh_2019  \\\n",
       "0                 NaN                  NaN                  NaN   \n",
       "1                 NaN                  NaN                2.467   \n",
       "2                 NaN                  NaN                  NaN   \n",
       "3                 NaN                  NaN                  NaN   \n",
       "\n",
       "                   generation_data_source  estimated_generation_gwh  \n",
       "0                                     NaN                       NaN  \n",
       "1  U.S. Energy Information Administration                       NaN  \n",
       "2                                     NaN                       NaN  \n",
       "3                                     NaN                       NaN  \n",
       "\n",
       "[4 rows x 27 columns]"
      ]
     },
     "execution_count": 71,
     "metadata": {},
     "output_type": "execute_result"
    }
   ],
   "source": [
    "usa_power_plants.head(4)"
   ]
  },
  {
   "cell_type": "code",
   "execution_count": 86,
   "id": "3fdddf9d-af6b-43c8-b953-d8512f67fe3b",
   "metadata": {},
   "outputs": [
    {
     "data": {
      "text/plain": [
       "Index(['country', 'country_long', 'name', 'gppd_idnr', 'capacity_mw',\n",
       "       'latitude', 'longitude', 'primary_fuel', 'other_fuel1', 'other_fuel2',\n",
       "       'other_fuel3', 'commissioning_year', 'owner', 'source', 'url',\n",
       "       'geolocation_source', 'wepp_id', 'year_of_capacity_data',\n",
       "       'generation_gwh_2013', 'generation_gwh_2014', 'generation_gwh_2015',\n",
       "       'generation_gwh_2016', 'generation_gwh_2017', 'generation_gwh_2018',\n",
       "       'generation_gwh_2019', 'generation_data_source',\n",
       "       'estimated_generation_gwh'],\n",
       "      dtype='object')"
      ]
     },
     "execution_count": 86,
     "metadata": {},
     "output_type": "execute_result"
    }
   ],
   "source": [
    "usa_power_plants.columns"
   ]
  },
  {
   "cell_type": "markdown",
   "id": "ee541a11-2df0-4348-8191-27410344df6b",
   "metadata": {},
   "source": [
    "### Indexing\n",
    "There are many ways to index"
   ]
  },
  {
   "cell_type": "code",
   "execution_count": 76,
   "id": "f3a3bd1e-8cb4-403c-8a72-38c57e1a2baa",
   "metadata": {},
   "outputs": [
    {
     "data": {
      "text/plain": [
       "0     Namibia\n",
       "1    Portugal\n",
       "2       Egypt\n",
       "3       Haiti\n",
       "4    Thailand\n",
       "5     Bolivia\n",
       "6     Estonia\n",
       "Name: Country, dtype: object"
      ]
     },
     "execution_count": 76,
     "metadata": {},
     "output_type": "execute_result"
    }
   ],
   "source": [
    "# dot notation\n",
    "df.Country  "
   ]
  },
  {
   "cell_type": "code",
   "execution_count": 77,
   "id": "cf4c13d3-047f-4918-9d2a-f41fcafaf223",
   "metadata": {},
   "outputs": [
    {
     "data": {
      "text/plain": [
       "0      22\n",
       "1     258\n",
       "2    1105\n",
       "Name: Primary Energy Consumption (TWh), dtype: int64"
      ]
     },
     "execution_count": 77,
     "metadata": {},
     "output_type": "execute_result"
    }
   ],
   "source": [
    "# or using square brackets\n",
    "df[\"Primary Energy Consumption (TWh)\"].head(3)  "
   ]
  },
  {
   "cell_type": "code",
   "execution_count": 78,
   "id": "05413d61-643d-46a9-9359-bb57a721f6d9",
   "metadata": {},
   "outputs": [
    {
     "data": {
      "text/plain": [
       "2       Egypt\n",
       "3       Haiti\n",
       "4    Thailand\n",
       "Name: Country, dtype: object"
      ]
     },
     "execution_count": 78,
     "metadata": {},
     "output_type": "execute_result"
    }
   ],
   "source": [
    "# or using the .loc function\n",
    "df.loc[2:4, \"Country\"]"
   ]
  },
  {
   "cell_type": "code",
   "execution_count": 79,
   "id": "bb91165b-1e75-4c22-ab60-745f0ef4d37c",
   "metadata": {},
   "outputs": [
    {
     "data": {
      "text/plain": [
       "pandas.core.series.Series"
      ]
     },
     "execution_count": 79,
     "metadata": {},
     "output_type": "execute_result"
    }
   ],
   "source": [
    "# All of the above outputs are examples of Series\n",
    "type(df[\"Country\"])"
   ]
  },
  {
   "cell_type": "code",
   "execution_count": 80,
   "id": "c5a5cb37-9d3a-4bf4-b4fd-b33465aa4c76",
   "metadata": {},
   "outputs": [
    {
     "data": {
      "text/html": [
       "<div>\n",
       "<style scoped>\n",
       "    .dataframe tbody tr th:only-of-type {\n",
       "        vertical-align: middle;\n",
       "    }\n",
       "\n",
       "    .dataframe tbody tr th {\n",
       "        vertical-align: top;\n",
       "    }\n",
       "\n",
       "    .dataframe thead th {\n",
       "        text-align: right;\n",
       "    }\n",
       "</style>\n",
       "<table border=\"1\" class=\"dataframe\">\n",
       "  <thead>\n",
       "    <tr style=\"text-align: right;\">\n",
       "      <th></th>\n",
       "      <th>Country</th>\n",
       "      <th>Primary Energy Consumption (TWh)</th>\n",
       "    </tr>\n",
       "  </thead>\n",
       "  <tbody>\n",
       "    <tr>\n",
       "      <th>1</th>\n",
       "      <td>Portugal</td>\n",
       "      <td>258</td>\n",
       "    </tr>\n",
       "    <tr>\n",
       "      <th>2</th>\n",
       "      <td>Egypt</td>\n",
       "      <td>1105</td>\n",
       "    </tr>\n",
       "    <tr>\n",
       "      <th>4</th>\n",
       "      <td>Thailand</td>\n",
       "      <td>1406</td>\n",
       "    </tr>\n",
       "  </tbody>\n",
       "</table>\n",
       "</div>"
      ],
      "text/plain": [
       "    Country  Primary Energy Consumption (TWh)\n",
       "1  Portugal                               258\n",
       "2     Egypt                              1105\n",
       "4  Thailand                              1406"
      ]
     },
     "execution_count": 80,
     "metadata": {},
     "output_type": "execute_result"
    }
   ],
   "source": [
    "# you can also use conditional statements\n",
    "df[df[\"Primary Energy Consumption (TWh)\"] > 100]"
   ]
  },
  {
   "cell_type": "code",
   "execution_count": 81,
   "id": "657949a1-cfe6-4be0-861e-825f6f6f7514",
   "metadata": {},
   "outputs": [
    {
     "name": "stdout",
     "output_type": "stream",
     "text": [
      "Namibia\n",
      "Portugal\n",
      "Egypt\n",
      "Haiti\n",
      "Thailand\n",
      "Bolivia\n",
      "Estonia\n"
     ]
    }
   ],
   "source": [
    "# or use for loops to iterate through an axis\n",
    "for i, row in df.iterrows():\n",
    "    print(row[\"Country\"])"
   ]
  },
  {
   "cell_type": "markdown",
   "id": "9efca300-616e-484e-91a5-546914ed648e",
   "metadata": {},
   "source": [
    "### Statistics, plotting etc\n",
    "Pandas also provides lots of functions that can be used for statistical analysis and plotting (and many more) of large datasets"
   ]
  },
  {
   "cell_type": "code",
   "execution_count": 84,
   "id": "fd168593-7462-4405-952a-1db04d58e8dd",
   "metadata": {},
   "outputs": [
    {
     "data": {
      "text/plain": [
       "count    11879.000000\n",
       "mean       101.409492\n",
       "std        317.976932\n",
       "min          0.000000\n",
       "25%          1.400000\n",
       "50%          5.000000\n",
       "75%         41.750000\n",
       "max       6809.000000\n",
       "Name: capacity_mw, dtype: float64"
      ]
     },
     "execution_count": 84,
     "metadata": {},
     "output_type": "execute_result"
    }
   ],
   "source": [
    "# to calculate some summary statistics on the USA power plant capacity data\n",
    "usa_power_plants[\"capacity_mw\"].describe()"
   ]
  },
  {
   "cell_type": "code",
   "execution_count": 91,
   "id": "456ae0f8-b10b-4f0d-9ee2-835e8e77ecb0",
   "metadata": {},
   "outputs": [
    {
     "data": {
      "text/plain": [
       "<Axes: xlabel='commissioning_year', ylabel='capacity_mw'>"
      ]
     },
     "execution_count": 91,
     "metadata": {},
     "output_type": "execute_result"
    },
    {
     "data": {
      "image/png": "[encoded data removed]",
      "text/plain": [
       "<Figure size 640x480 with 1 Axes>"
      ]
     },
     "metadata": {},
     "output_type": "display_data"
    }
   ],
   "source": [
    "# to plot capacity vs commissioning year\n",
    "usa_power_plants.plot(x=\"commissioning_year\", y=\"capacity_mw\", kind='scatter')"
   ]
  },
  {
   "cell_type": "markdown",
   "id": "d29ecea6-c85f-450e-bed8-99b6e040013f",
   "metadata": {},
   "source": [
    "**Your turn - Use the cells below to print the following values:**\n",
    "\n",
    "1. The total number of power plants in the US.\n",
    "2. The minimum, maximum and average capacity of the plants in MW.\n",
    "3. The number of listed solar farms.\n",
    "4. The number of different plant types listed.\n",
    "5. The year with the highest generation from all of the plants."
   ]
  },
  {
   "cell_type": "code",
   "execution_count": 93,
   "id": "77dc8af2-906f-47ef-a191-2a9b57f90d1d",
   "metadata": {
    "code_folding": []
   },
   "outputs": [],
   "source": [
    "# The total number of power plants in the US with capacity greater than 5MW."
   ]
  },
  {
   "cell_type": "code",
   "execution_count": 94,
   "id": "d0fd4ddd-9ebd-4e38-a09b-788a9337f87b",
   "metadata": {},
   "outputs": [],
   "source": [
    "# The minimum, maximum and average capacity of the plants in MW."
   ]
  },
  {
   "cell_type": "code",
   "execution_count": 95,
   "id": "a248ea75-0c20-40b4-af10-60d8d34f899b",
   "metadata": {},
   "outputs": [],
   "source": [
    "# The number of listed solar farms."
   ]
  },
  {
   "cell_type": "code",
   "execution_count": 96,
   "id": "da01042c-2ca2-4e2c-a584-4987a9bf504a",
   "metadata": {},
   "outputs": [],
   "source": [
    "# The number of different plant types listed."
   ]
  },
  {
   "cell_type": "code",
   "execution_count": 97,
   "id": "6e8370e9-9698-4f2c-8e41-6533dd18693e",
   "metadata": {},
   "outputs": [],
   "source": [
    "# The year with the highest generation from all of the plants."
   ]
  },
  {
   "cell_type": "markdown",
   "id": "6a4dce85-099e-4ff9-aa9c-b4e9f29eb345",
   "metadata": {},
   "source": [
    "## Plotting"
   ]
  },
  {
   "cell_type": "markdown",
   "id": "4840ac11-f9df-4750-a0c2-7b68f46d9320",
   "metadata": {},
   "source": [
    "Matplotlib is one of the most popular and fundamental scientific plotting libraries - in fact, the plot produced above in pandas used matplotlib behind the scenes. However, the are many other plotting libraries that suit different purposes such as seaborn for statistical plotting and bokeh or plotly for web-based interactive plotting. "
   ]
  },
  {
   "cell_type": "code",
   "execution_count": 105,
   "id": "41ee23e9-51fb-436c-8f9f-3fd30e856685",
   "metadata": {},
   "outputs": [
    {
     "data": {
      "image/png": "[encoded data removed]",
      "text/plain": [
       "<Figure size 640x480 with 1 Axes>"
      ]
     },
     "metadata": {},
     "output_type": "display_data"
    }
   ],
   "source": [
    "from matplotlib import pyplot as plt\n",
    "plt.scatter(usa_power_plants[\"commissioning_year\"], usa_power_plants[\"capacity_mw\"])\n",
    "plt.show()"
   ]
  },
  {
   "cell_type": "code",
   "execution_count": null,
   "id": "9f4b3aa2-e722-49f1-a40b-eed52d2dec2b",
   "metadata": {},
   "outputs": [],
   "source": []
  }
 ],
 "metadata": {
  "kernelspec": {
   "display_name": "Python 3 (ipykernel)",
   "language": "python",
   "name": "python3"
  },
  "language_info": {
   "codemirror_mode": {
    "name": "ipython",
    "version": 3
   },
   "file_extension": ".py",
   "mimetype": "text/x-python",
   "name": "python",
   "nbconvert_exporter": "python",
   "pygments_lexer": "ipython3",
   "version": "3.12.4"
  }
 },
 "nbformat": 4,
 "nbformat_minor": 5
}
